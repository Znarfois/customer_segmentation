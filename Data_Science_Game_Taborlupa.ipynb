{
  "nbformat": 4,
  "nbformat_minor": 0,
  "metadata": {
    "kernelspec": {
      "display_name": "Python 3",
      "language": "python",
      "name": "python3"
    },
    "language_info": {
      "codemirror_mode": {
        "name": "ipython",
        "version": 3
      },
      "file_extension": ".py",
      "mimetype": "text/x-python",
      "name": "python",
      "nbconvert_exporter": "python",
      "pygments_lexer": "ipython3",
      "version": "3.7.7"
    },
    "toc": {
      "base_numbering": 1,
      "nav_menu": {},
      "number_sections": true,
      "sideBar": true,
      "skip_h1_title": false,
      "title_cell": "Table of Contents",
      "title_sidebar": "Contents",
      "toc_cell": false,
      "toc_position": {},
      "toc_section_display": true,
      "toc_window_display": false
    },
    "colab": {
      "name": "Data_Science_Game_Taborlupa.ipynb",
      "provenance": [],
      "collapsed_sections": []
    }
  },
  "cells": [
    {
      "cell_type": "markdown",
      "metadata": {
        "id": "K8_FING-1qeS",
        "colab_type": "text"
      },
      "source": [
        "# Diagnostic: The Data Science Game\n",
        "\n",
        "## If you were a data scientist today, what would you do with this dataset?\n",
        "\n",
        " \n",
        "\n",
        "We love data. Think of it as a game. Some warm up and stretching before the boot camp.\n",
        "\n",
        "Here's a dataset about __heart disease__ originally from the University of California at Irvine. We'd like to use this first assignment to get you familiar with the hands-on nature of this course, as well as get a sense for your current level of applied data science.\n",
        "\n",
        "We will check the notebooks you upload to get a sense of where you are, as well as how specifically we can help you grow.\n",
        "\n",
        " \n",
        "__Instructions__\n",
        "\n",
        "1. Download and open the jupyter notebook called Data_Science_Game_[Your Last Name]\n",
        "2. Rename this notebook and change [Your Last Name] to your actual last name.\n",
        "3. Make sure you completed step 2.\n",
        "4. Download the heart.csv file.\n",
        "5. Have fun and do whatever!\n",
        "6. When you're done playing with the data, save the file and upload it here.\n",
        "7. Really, that's it. Try not to spend more than 1-2 hours on this.\n",
        "\n",
        "__Files:__\n",
        "\n",
        "Notebook\n",
        "\n",
        "__Data_Science_Game_[Your Last Name].ipynb__\n",
        "\n",
        "Dataset\n",
        "\n",
        "__heart.csv__\n",
        "\n",
        " \n",
        "`Clarifying step 5:`\n",
        "\n",
        "__What do you mean, do whatever?__\n",
        "\n",
        "We gave you some template instructions in the notebook, but as a data scientist, you'll often encounter data...and not much else. You choose what you want to do with it! Do you want to visualize it, find the descriptive statistics, run some what-if scenarios, build a dashboard, build a machine learning model, etc.? There are so many options. Use what you already know how to do - your background may give you very different ideas of how to approach this. A business intelligence professional, a marketer, an engineer, and a statistician may all look at the same dataset and come up with completely different analyses. That's part of the diversity of data science!\n",
        "\n",
        "__What if I can't do anything?__\n",
        "\n",
        "You should be able to do some things! Check the table, look at the top values, find the mean, etc.\n",
        "\n",
        "But it's ok if you can't do much. That's why you're in the bootcamp after all. Do the things you can, even if it's just 1 or 2 things, and then save the file. At least we'll know where you are.\n",
        "\n",
        "__Can I look up stuff to do online?__\n",
        "\n",
        "Sure, data scientists are constantly looking online for inspiration or refreshers. If you remember learning a statistic or a programming function but forgot how to do it, look it up online to refresh yourself. If there's a cool new trick you can learn, go ahead!\n",
        "\n",
        "Just try not to spend more than 1-2 hours on this.\n",
        "\n",
        "__Can I use Excel, PowerBI, Tableau, R, etc.?__\n",
        "\n",
        "We will use this assignment as a basis for assessing your comfort levels with Python so we STRONGLY prefer Python. That said, if you are really new to Python but are really strong at data analysis with another tool, you can upload a PDF of your analysis with your alternative tool (e.g. dashboard). \n",
        "\n",
        "__Can I combine this with other datasets?__\n",
        "\n",
        "Sure, but try not to spend more than 1-2 hours on this.\n",
        "\n",
        "__Can I copy a Kaggle kernel?__\n",
        "\n",
        "No, don't do that.\n",
        "\n",
        "Can I do [some really fancy model that takes days to deploy]?\n",
        "\n",
        "Um, you probably shouldn't be in this bootcamp.\n",
        "\n",
        "\n"
      ]
    },
    {
      "cell_type": "code",
      "metadata": {
        "ExecuteTime": {
          "end_time": "2020-08-27T08:52:38.621845Z",
          "start_time": "2020-08-27T08:52:38.549039Z"
        },
        "id": "7X-sOegF1qeT",
        "colab_type": "code",
        "colab": {
          "base_uri": "https://localhost:8080/",
          "height": 34
        },
        "outputId": "93285dd6-f0da-43e1-cbc0-07a3f1a54d76"
      },
      "source": [
        "# Run this line of code to check the version of python in your jupyeter notebook.\n",
        "#You can click the run button or press shift + enter (windows) or command key ⌘ for (mac)\n",
        "\n",
        "!python --version"
      ],
      "execution_count": null,
      "outputs": [
        {
          "output_type": "stream",
          "text": [
            "Python 3.6.9\n"
          ],
          "name": "stdout"
        }
      ]
    },
    {
      "cell_type": "markdown",
      "metadata": {
        "id": "1Ri3UfwD1qeZ",
        "colab_type": "text"
      },
      "source": [
        "#  Business & Data Understanding"
      ]
    },
    {
      "cell_type": "code",
      "metadata": {
        "id": "yTNfVTPo1qeZ",
        "colab_type": "code",
        "colab": {}
      },
      "source": [
        "# E.g. What do you want to find out about this data set?"
      ],
      "execution_count": null,
      "outputs": []
    },
    {
      "cell_type": "markdown",
      "metadata": {
        "id": "OZsa74uCVcGY",
        "colab_type": "text"
      },
      "source": [
        "Looking at the dataset, I want to see the different trends surrounding age, sex, and whether there's a correlation with symptoms of various sardiovascular diseases."
      ]
    },
    {
      "cell_type": "markdown",
      "metadata": {
        "id": "QdWnX37E1qec",
        "colab_type": "text"
      },
      "source": [
        "__Features:__\n",
        "\n",
        "> 1. `age` - age in years \n",
        "2. `sex` - (1 = male; 0 = female) \n",
        "3. `cp` - chest pain type \n",
        "    * 0: Typical angina: chest pain related decrease blood supply to the heart\n",
        "    * 1: Atypical angina: chest pain not related to heart\n",
        "    * 2: Non-anginal pain: typically esophageal spasms (non heart related)\n",
        "    * 3: Asymptomatic: chest pain not showing signs of disease\n",
        "4. `trestbps` - resting blood pressure (in mm Hg on admission to the hospital)\n",
        "    * anything above 130-140 is typically cause for concern\n",
        "5. `chol` - serum cholestoral in mg/dl \n",
        "    * serum = LDL + HDL + .2 * triglycerides\n",
        "    * above 200 is cause for concern\n",
        "6. `fbs` - (fasting blood sugar > 120 mg/dl) (1 = true; 0 = false) \n",
        "    * '>126' mg/dL signals diabetes\n",
        "7. `restecg` - resting electrocardiographic results\n",
        "    * 0: Nothing to note\n",
        "    * 1: ST-T Wave abnormality\n",
        "        - can range from mild symptoms to severe problems\n",
        "        - signals non-normal heart beat\n",
        "    * 2: Possible or definite left ventricular hypertrophy\n",
        "        - Enlarged heart's main pumping chamber\n",
        "8. `thalach` - maximum heart rate achieved \n",
        "9. `exang` - exercise induced angina (1 = yes; 0 = no) \n",
        "10. `oldpeak` - ST depression induced by exercise relative to rest \n",
        "    * looks at stress of heart during excercise\n",
        "    * unhealthy heart will stress more\n",
        "11. `slope` - the slope of the peak exercise ST segment\n",
        "    * 0: Upsloping: better heart rate with excercise (uncommon)\n",
        "    * 1: Flatsloping: minimal change (typical healthy heart)\n",
        "    * 2: Downslopins: signs of unhealthy heart\n",
        "12. `ca` - number of major vessels (0-3) colored by flourosopy \n",
        "    * colored vessel means the doctor can see the blood passing through\n",
        "    * the more blood movement the better (no clots)\n",
        "13. `thal` - thalium stress result\n",
        "    * 1,3: normal\n",
        "    * 6: fixed defect: used to be defect but ok now\n",
        "    * 7: reversable defect: no proper blood movement when excercising \n",
        "14. `target` - have disease or not (1=yes, 0=no) (= the predicted attribute)\n",
        "\n"
      ]
    },
    {
      "cell_type": "markdown",
      "metadata": {
        "id": "uaS0Ol811qeh",
        "colab_type": "text"
      },
      "source": [
        "# Import Data & Libraries"
      ]
    },
    {
      "cell_type": "code",
      "metadata": {
        "id": "sX-mSOws1qeh",
        "colab_type": "code",
        "colab": {}
      },
      "source": [
        "import pandas as pd\n",
        "import matplotlib.pyplot as plt\n",
        "import numpy as np"
      ],
      "execution_count": 5,
      "outputs": []
    },
    {
      "cell_type": "code",
      "metadata": {
        "id": "XFRqDJYk1qek",
        "colab_type": "code",
        "colab": {}
      },
      "source": [
        "# E.g. Download the data and make it available in your coding environment\n",
        "df = pd.read_csv('heart.csv')\n",
        "# print(df)"
      ],
      "execution_count": 6,
      "outputs": []
    },
    {
      "cell_type": "markdown",
      "metadata": {
        "id": "h7J3eJ7T1qes",
        "colab_type": "text"
      },
      "source": [
        "# Exploratory Data Analysis"
      ]
    },
    {
      "cell_type": "code",
      "metadata": {
        "id": "6WGfRjx_1qew",
        "colab_type": "code",
        "colab": {
          "base_uri": "https://localhost:8080/",
          "height": 252
        },
        "outputId": "e6ce94a7-c7e3-4dc5-b155-581dad6dfd62"
      },
      "source": [
        "# E.g. Take a look at the first few rows, and take note of the column names. \n",
        "print(df.head)"
      ],
      "execution_count": 7,
      "outputs": [
        {
          "output_type": "stream",
          "text": [
            "<bound method NDFrame.head of      age  sex  cp  trestbps  chol  fbs  ...  exang  oldpeak  slope  ca  thal  target\n",
            "0     63    1   3       145   233    1  ...      0      2.3      0   0     1       1\n",
            "1     37    1   2       130   250    0  ...      0      3.5      0   0     2       1\n",
            "2     41    0   1       130   204    0  ...      0      1.4      2   0     2       1\n",
            "3     56    1   1       120   236    0  ...      0      0.8      2   0     2       1\n",
            "4     57    0   0       120   354    0  ...      1      0.6      2   0     2       1\n",
            "..   ...  ...  ..       ...   ...  ...  ...    ...      ...    ...  ..   ...     ...\n",
            "298   57    0   0       140   241    0  ...      1      0.2      1   0     3       0\n",
            "299   45    1   3       110   264    0  ...      0      1.2      1   0     3       0\n",
            "300   68    1   0       144   193    1  ...      0      3.4      1   2     3       0\n",
            "301   57    1   0       130   131    0  ...      1      1.2      1   1     3       0\n",
            "302   57    0   1       130   236    0  ...      0      0.0      1   1     2       0\n",
            "\n",
            "[303 rows x 14 columns]>\n"
          ],
          "name": "stdout"
        }
      ]
    },
    {
      "cell_type": "code",
      "metadata": {
        "id": "rRdVtvbN1qez",
        "colab_type": "code",
        "colab": {
          "base_uri": "https://localhost:8080/",
          "height": 252
        },
        "outputId": "3e377f25-2c40-4a97-b090-e6d981c5a4fe"
      },
      "source": [
        "# E.g. Check out the data-type for each column of the dataset. \n",
        "for x in df:\n",
        "    print(x, df[x].dtypes)"
      ],
      "execution_count": 8,
      "outputs": [
        {
          "output_type": "stream",
          "text": [
            "age int64\n",
            "sex int64\n",
            "cp int64\n",
            "trestbps int64\n",
            "chol int64\n",
            "fbs int64\n",
            "restecg int64\n",
            "thalach int64\n",
            "exang int64\n",
            "oldpeak float64\n",
            "slope int64\n",
            "ca int64\n",
            "thal int64\n",
            "target int64\n"
          ],
          "name": "stdout"
        }
      ]
    },
    {
      "cell_type": "code",
      "metadata": {
        "id": "pC7xUylj1qe2",
        "colab_type": "code",
        "colab": {
          "base_uri": "https://localhost:8080/",
          "height": 269
        },
        "outputId": "ce495d73-b107-46b7-9ff6-66059817cefc"
      },
      "source": [
        "# Getting the mean of each column from the data set\n",
        "print(df.mean(axis=0))"
      ],
      "execution_count": 12,
      "outputs": [
        {
          "output_type": "stream",
          "text": [
            "age          54.366337\n",
            "sex           0.683168\n",
            "cp            0.966997\n",
            "trestbps    131.623762\n",
            "chol        246.264026\n",
            "fbs           0.148515\n",
            "restecg       0.528053\n",
            "thalach     149.646865\n",
            "exang         0.326733\n",
            "oldpeak       1.039604\n",
            "slope         1.399340\n",
            "ca            0.729373\n",
            "thal          2.313531\n",
            "target        0.544554\n",
            "dtype: float64\n"
          ],
          "name": "stdout"
        }
      ]
    },
    {
      "cell_type": "code",
      "metadata": {
        "id": "wLiqFFIy1qe5",
        "colab_type": "code",
        "colab": {
          "base_uri": "https://localhost:8080/",
          "height": 265
        },
        "outputId": "9face1cd-cc6d-4dee-9226-a44570be941d"
      },
      "source": [
        "#Trying to create a plot\n",
        "\n",
        "x = np.linspace(0, 5, 50)\n",
        "\n",
        "plt.plot(x, x, label='Line')\n",
        "\n",
        "plt.legend()\n",
        "\n",
        "plt.show()"
      ],
      "execution_count": 13,
      "outputs": [
        {
          "output_type": "display_data",
          "data": {
            "image/png": "[encoded data removed]",
            "text/plain": [
              "<Figure size 432x288 with 1 Axes>"
            ]
          },
          "metadata": {
            "tags": [],
            "needs_background": "light"
          }
        }
      ]
    },
    {
      "cell_type": "markdown",
      "metadata": {
        "id": "BbUmDteF1qfk",
        "colab_type": "text"
      },
      "source": [
        "# Conclusion"
      ]
    },
    {
      "cell_type": "markdown",
      "metadata": {
        "id": "g6MWCOzcV3pe",
        "colab_type": "text"
      },
      "source": [
        "I wasn't exactly sure how to tackle the data set at first because it looked overwhelming however looking at the data thoroughly I thought of finding correlations between the demographic and their corresponding data as well as asking questions based on the data and what I know of cardiovascular diseases. \n",
        "\n",
        "I was thinking of maybe using other references to compare what parameters indicate a health condition but I'm not really sure how to do that yet. \n",
        "\n",
        "Overall I realised that I can break up the data set by looking for 'stories' within the data. I asked questions such as \"Is there a correlation between age and the type of chest pain one experiences?\" or \"Can I make a kind of scoring system that can flag people for possible heart conditions based on this set of data?\" I learned the basic things for now like the mean of each column and that I definitely have a lot to learn in the world of data science."
      ]
    }
  ]
}